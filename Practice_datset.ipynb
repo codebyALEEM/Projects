{
 "cells": [
  {
   "cell_type": "code",
   "execution_count": 1,
   "id": "65e04ef7",
   "metadata": {},
   "outputs": [],
   "source": [
    "import numpy as np\n",
    "import matplotlib.pyplot as plt\n",
    "import pandas as pd\n",
    "import seaborn as sns\n",
    "\n",
    "import warnings\n",
    "warnings.filterwarnings('ignore')"
   ]
  },
  {
   "cell_type": "code",
   "execution_count": 2,
   "id": "555578fd",
   "metadata": {},
   "outputs": [],
   "source": [
    "df = pd.read_csv(r'C:\\Users\\VICTUS\\Downloads\\HR_Data_MNC_Data Science Lovers.csv')"
   ]
  },
  {
   "cell_type": "code",
   "execution_count": 3,
   "id": "6f644db3",
   "metadata": {},
   "outputs": [
    {
     "data": {
      "text/html": [
       "<div>\n",
       "<style scoped>\n",
       "    .dataframe tbody tr th:only-of-type {\n",
       "        vertical-align: middle;\n",
       "    }\n",
       "\n",
       "    .dataframe tbody tr th {\n",
       "        vertical-align: top;\n",
       "    }\n",
       "\n",
       "    .dataframe thead th {\n",
       "        text-align: right;\n",
       "    }\n",
       "</style>\n",
       "<table border=\"1\" class=\"dataframe\">\n",
       "  <thead>\n",
       "    <tr style=\"text-align: right;\">\n",
       "      <th></th>\n",
       "      <th>Unnamed: 0</th>\n",
       "      <th>Employee_ID</th>\n",
       "      <th>Full_Name</th>\n",
       "      <th>Department</th>\n",
       "      <th>Job_Title</th>\n",
       "      <th>Hire_Date</th>\n",
       "      <th>Location</th>\n",
       "      <th>Performance_Rating</th>\n",
       "      <th>Experience_Years</th>\n",
       "      <th>Status</th>\n",
       "      <th>Work_Mode</th>\n",
       "      <th>Salary_INR</th>\n",
       "    </tr>\n",
       "  </thead>\n",
       "  <tbody>\n",
       "    <tr>\n",
       "      <th>0</th>\n",
       "      <td>0</td>\n",
       "      <td>EMP0000001</td>\n",
       "      <td>Joshua Nguyen</td>\n",
       "      <td>IT</td>\n",
       "      <td>Software Engineer</td>\n",
       "      <td>2011-08-10</td>\n",
       "      <td>Isaacland, Denmark</td>\n",
       "      <td>5</td>\n",
       "      <td>14</td>\n",
       "      <td>Resigned</td>\n",
       "      <td>On-site</td>\n",
       "      <td>1585363</td>\n",
       "    </tr>\n",
       "    <tr>\n",
       "      <th>1</th>\n",
       "      <td>1</td>\n",
       "      <td>EMP0000002</td>\n",
       "      <td>Julie Williams</td>\n",
       "      <td>Marketing</td>\n",
       "      <td>SEO Specialist</td>\n",
       "      <td>2018-03-02</td>\n",
       "      <td>Anthonyside, Costa Rica</td>\n",
       "      <td>2</td>\n",
       "      <td>7</td>\n",
       "      <td>Active</td>\n",
       "      <td>On-site</td>\n",
       "      <td>847686</td>\n",
       "    </tr>\n",
       "    <tr>\n",
       "      <th>2</th>\n",
       "      <td>2</td>\n",
       "      <td>EMP0000003</td>\n",
       "      <td>Alyssa Martinez</td>\n",
       "      <td>HR</td>\n",
       "      <td>HR Manager</td>\n",
       "      <td>2023-03-20</td>\n",
       "      <td>Port Christinaport, Saudi Arabia</td>\n",
       "      <td>1</td>\n",
       "      <td>2</td>\n",
       "      <td>Active</td>\n",
       "      <td>On-site</td>\n",
       "      <td>1430084</td>\n",
       "    </tr>\n",
       "    <tr>\n",
       "      <th>3</th>\n",
       "      <td>3</td>\n",
       "      <td>EMP0000004</td>\n",
       "      <td>Nicholas Valdez</td>\n",
       "      <td>IT</td>\n",
       "      <td>Software Engineer</td>\n",
       "      <td>2023-10-12</td>\n",
       "      <td>Port Shelbychester, Antigua and Barbuda</td>\n",
       "      <td>1</td>\n",
       "      <td>1</td>\n",
       "      <td>Active</td>\n",
       "      <td>On-site</td>\n",
       "      <td>990689</td>\n",
       "    </tr>\n",
       "    <tr>\n",
       "      <th>4</th>\n",
       "      <td>4</td>\n",
       "      <td>EMP0000005</td>\n",
       "      <td>Joel Hendricks</td>\n",
       "      <td>Operations</td>\n",
       "      <td>Logistics Coordinator</td>\n",
       "      <td>2024-12-09</td>\n",
       "      <td>Lake Kimberly, Palestinian Territory</td>\n",
       "      <td>5</td>\n",
       "      <td>0</td>\n",
       "      <td>Active</td>\n",
       "      <td>On-site</td>\n",
       "      <td>535082</td>\n",
       "    </tr>\n",
       "  </tbody>\n",
       "</table>\n",
       "</div>"
      ],
      "text/plain": [
       "   Unnamed: 0 Employee_ID        Full_Name  Department              Job_Title  \\\n",
       "0           0  EMP0000001    Joshua Nguyen          IT      Software Engineer   \n",
       "1           1  EMP0000002   Julie Williams   Marketing         SEO Specialist   \n",
       "2           2  EMP0000003  Alyssa Martinez          HR             HR Manager   \n",
       "3           3  EMP0000004  Nicholas Valdez          IT      Software Engineer   \n",
       "4           4  EMP0000005   Joel Hendricks  Operations  Logistics Coordinator   \n",
       "\n",
       "    Hire_Date                                 Location  Performance_Rating  \\\n",
       "0  2011-08-10                       Isaacland, Denmark                   5   \n",
       "1  2018-03-02                  Anthonyside, Costa Rica                   2   \n",
       "2  2023-03-20         Port Christinaport, Saudi Arabia                   1   \n",
       "3  2023-10-12  Port Shelbychester, Antigua and Barbuda                   1   \n",
       "4  2024-12-09     Lake Kimberly, Palestinian Territory                   5   \n",
       "\n",
       "   Experience_Years    Status Work_Mode  Salary_INR  \n",
       "0                14  Resigned   On-site     1585363  \n",
       "1                 7    Active   On-site      847686  \n",
       "2                 2    Active   On-site     1430084  \n",
       "3                 1    Active   On-site      990689  \n",
       "4                 0    Active   On-site      535082  "
      ]
     },
     "execution_count": 3,
     "metadata": {},
     "output_type": "execute_result"
    }
   ],
   "source": [
    "df.head()"
   ]
  },
  {
   "cell_type": "code",
   "execution_count": 4,
   "id": "3a038ed1",
   "metadata": {},
   "outputs": [
    {
     "name": "stdout",
     "output_type": "stream",
     "text": [
      "<class 'pandas.core.frame.DataFrame'>\n",
      "RangeIndex: 2000000 entries, 0 to 1999999\n",
      "Data columns (total 12 columns):\n",
      " #   Column              Dtype \n",
      "---  ------              ----- \n",
      " 0   Unnamed: 0          int64 \n",
      " 1   Employee_ID         object\n",
      " 2   Full_Name           object\n",
      " 3   Department          object\n",
      " 4   Job_Title           object\n",
      " 5   Hire_Date           object\n",
      " 6   Location            object\n",
      " 7   Performance_Rating  int64 \n",
      " 8   Experience_Years    int64 \n",
      " 9   Status              object\n",
      " 10  Work_Mode           object\n",
      " 11  Salary_INR          int64 \n",
      "dtypes: int64(4), object(8)\n",
      "memory usage: 183.1+ MB\n"
     ]
    }
   ],
   "source": [
    "df.info()"
   ]
  },
  {
   "cell_type": "code",
   "execution_count": 5,
   "id": "84420213",
   "metadata": {},
   "outputs": [
    {
     "data": {
      "text/plain": [
       "(2000000, 12)"
      ]
     },
     "execution_count": 5,
     "metadata": {},
     "output_type": "execute_result"
    }
   ],
   "source": [
    "df.shape"
   ]
  },
  {
   "cell_type": "code",
   "execution_count": 6,
   "id": "b08a0a52",
   "metadata": {},
   "outputs": [],
   "source": [
    "df.drop(columns=['Unnamed: 0'], inplace=True)"
   ]
  },
  {
   "cell_type": "code",
   "execution_count": 7,
   "id": "3c6fce6c",
   "metadata": {},
   "outputs": [
    {
     "name": "stdout",
     "output_type": "stream",
     "text": [
      "<class 'pandas.core.frame.DataFrame'>\n",
      "RangeIndex: 2000000 entries, 0 to 1999999\n",
      "Data columns (total 11 columns):\n",
      " #   Column              Dtype \n",
      "---  ------              ----- \n",
      " 0   Employee_ID         object\n",
      " 1   Full_Name           object\n",
      " 2   Department          object\n",
      " 3   Job_Title           object\n",
      " 4   Hire_Date           object\n",
      " 5   Location            object\n",
      " 6   Performance_Rating  int64 \n",
      " 7   Experience_Years    int64 \n",
      " 8   Status              object\n",
      " 9   Work_Mode           object\n",
      " 10  Salary_INR          int64 \n",
      "dtypes: int64(3), object(8)\n",
      "memory usage: 167.8+ MB\n"
     ]
    }
   ],
   "source": [
    "df.info()"
   ]
  },
  {
   "cell_type": "code",
   "execution_count": 8,
   "id": "2a5e1b53",
   "metadata": {},
   "outputs": [
    {
     "data": {
      "text/html": [
       "<div>\n",
       "<style scoped>\n",
       "    .dataframe tbody tr th:only-of-type {\n",
       "        vertical-align: middle;\n",
       "    }\n",
       "\n",
       "    .dataframe tbody tr th {\n",
       "        vertical-align: top;\n",
       "    }\n",
       "\n",
       "    .dataframe thead th {\n",
       "        text-align: right;\n",
       "    }\n",
       "</style>\n",
       "<table border=\"1\" class=\"dataframe\">\n",
       "  <thead>\n",
       "    <tr style=\"text-align: right;\">\n",
       "      <th></th>\n",
       "      <th>Employee_ID</th>\n",
       "      <th>Full_Name</th>\n",
       "      <th>Department</th>\n",
       "      <th>Job_Title</th>\n",
       "      <th>Hire_Date</th>\n",
       "      <th>Location</th>\n",
       "      <th>Performance_Rating</th>\n",
       "      <th>Experience_Years</th>\n",
       "      <th>Status</th>\n",
       "      <th>Work_Mode</th>\n",
       "      <th>Salary_INR</th>\n",
       "    </tr>\n",
       "  </thead>\n",
       "  <tbody>\n",
       "    <tr>\n",
       "      <th>0</th>\n",
       "      <td>EMP0000001</td>\n",
       "      <td>Joshua Nguyen</td>\n",
       "      <td>IT</td>\n",
       "      <td>Software Engineer</td>\n",
       "      <td>2011-08-10</td>\n",
       "      <td>Isaacland, Denmark</td>\n",
       "      <td>5</td>\n",
       "      <td>14</td>\n",
       "      <td>Resigned</td>\n",
       "      <td>On-site</td>\n",
       "      <td>1585363</td>\n",
       "    </tr>\n",
       "    <tr>\n",
       "      <th>1</th>\n",
       "      <td>EMP0000002</td>\n",
       "      <td>Julie Williams</td>\n",
       "      <td>Marketing</td>\n",
       "      <td>SEO Specialist</td>\n",
       "      <td>2018-03-02</td>\n",
       "      <td>Anthonyside, Costa Rica</td>\n",
       "      <td>2</td>\n",
       "      <td>7</td>\n",
       "      <td>Active</td>\n",
       "      <td>On-site</td>\n",
       "      <td>847686</td>\n",
       "    </tr>\n",
       "    <tr>\n",
       "      <th>2</th>\n",
       "      <td>EMP0000003</td>\n",
       "      <td>Alyssa Martinez</td>\n",
       "      <td>HR</td>\n",
       "      <td>HR Manager</td>\n",
       "      <td>2023-03-20</td>\n",
       "      <td>Port Christinaport, Saudi Arabia</td>\n",
       "      <td>1</td>\n",
       "      <td>2</td>\n",
       "      <td>Active</td>\n",
       "      <td>On-site</td>\n",
       "      <td>1430084</td>\n",
       "    </tr>\n",
       "    <tr>\n",
       "      <th>3</th>\n",
       "      <td>EMP0000004</td>\n",
       "      <td>Nicholas Valdez</td>\n",
       "      <td>IT</td>\n",
       "      <td>Software Engineer</td>\n",
       "      <td>2023-10-12</td>\n",
       "      <td>Port Shelbychester, Antigua and Barbuda</td>\n",
       "      <td>1</td>\n",
       "      <td>1</td>\n",
       "      <td>Active</td>\n",
       "      <td>On-site</td>\n",
       "      <td>990689</td>\n",
       "    </tr>\n",
       "    <tr>\n",
       "      <th>4</th>\n",
       "      <td>EMP0000005</td>\n",
       "      <td>Joel Hendricks</td>\n",
       "      <td>Operations</td>\n",
       "      <td>Logistics Coordinator</td>\n",
       "      <td>2024-12-09</td>\n",
       "      <td>Lake Kimberly, Palestinian Territory</td>\n",
       "      <td>5</td>\n",
       "      <td>0</td>\n",
       "      <td>Active</td>\n",
       "      <td>On-site</td>\n",
       "      <td>535082</td>\n",
       "    </tr>\n",
       "  </tbody>\n",
       "</table>\n",
       "</div>"
      ],
      "text/plain": [
       "  Employee_ID        Full_Name  Department              Job_Title   Hire_Date  \\\n",
       "0  EMP0000001    Joshua Nguyen          IT      Software Engineer  2011-08-10   \n",
       "1  EMP0000002   Julie Williams   Marketing         SEO Specialist  2018-03-02   \n",
       "2  EMP0000003  Alyssa Martinez          HR             HR Manager  2023-03-20   \n",
       "3  EMP0000004  Nicholas Valdez          IT      Software Engineer  2023-10-12   \n",
       "4  EMP0000005   Joel Hendricks  Operations  Logistics Coordinator  2024-12-09   \n",
       "\n",
       "                                  Location  Performance_Rating  \\\n",
       "0                       Isaacland, Denmark                   5   \n",
       "1                  Anthonyside, Costa Rica                   2   \n",
       "2         Port Christinaport, Saudi Arabia                   1   \n",
       "3  Port Shelbychester, Antigua and Barbuda                   1   \n",
       "4     Lake Kimberly, Palestinian Territory                   5   \n",
       "\n",
       "   Experience_Years    Status Work_Mode  Salary_INR  \n",
       "0                14  Resigned   On-site     1585363  \n",
       "1                 7    Active   On-site      847686  \n",
       "2                 2    Active   On-site     1430084  \n",
       "3                 1    Active   On-site      990689  \n",
       "4                 0    Active   On-site      535082  "
      ]
     },
     "execution_count": 8,
     "metadata": {},
     "output_type": "execute_result"
    }
   ],
   "source": [
    "df.head()"
   ]
  },
  {
   "cell_type": "code",
   "execution_count": 10,
   "id": "af8abfcf",
   "metadata": {},
   "outputs": [],
   "source": [
    "#Change the datatype of Date column\n",
    "df['Hire_Date']=pd.to_datetime(df['Hire_Date'])"
   ]
  },
  {
   "cell_type": "code",
   "execution_count": 11,
   "id": "56c9a787",
   "metadata": {},
   "outputs": [
    {
     "name": "stdout",
     "output_type": "stream",
     "text": [
      "<class 'pandas.core.frame.DataFrame'>\n",
      "RangeIndex: 2000000 entries, 0 to 1999999\n",
      "Data columns (total 11 columns):\n",
      " #   Column              Dtype         \n",
      "---  ------              -----         \n",
      " 0   Employee_ID         object        \n",
      " 1   Full_Name           object        \n",
      " 2   Department          object        \n",
      " 3   Job_Title           object        \n",
      " 4   Hire_Date           datetime64[ns]\n",
      " 5   Location            object        \n",
      " 6   Performance_Rating  int64         \n",
      " 7   Experience_Years    int64         \n",
      " 8   Status              object        \n",
      " 9   Work_Mode           object        \n",
      " 10  Salary_INR          int64         \n",
      "dtypes: datetime64[ns](1), int64(3), object(7)\n",
      "memory usage: 167.8+ MB\n"
     ]
    }
   ],
   "source": [
    "df.info()"
   ]
  },
  {
   "cell_type": "code",
   "execution_count": 12,
   "id": "80c9a170",
   "metadata": {},
   "outputs": [
    {
     "data": {
      "text/html": [
       "<div>\n",
       "<style scoped>\n",
       "    .dataframe tbody tr th:only-of-type {\n",
       "        vertical-align: middle;\n",
       "    }\n",
       "\n",
       "    .dataframe tbody tr th {\n",
       "        vertical-align: top;\n",
       "    }\n",
       "\n",
       "    .dataframe thead th {\n",
       "        text-align: right;\n",
       "    }\n",
       "</style>\n",
       "<table border=\"1\" class=\"dataframe\">\n",
       "  <thead>\n",
       "    <tr style=\"text-align: right;\">\n",
       "      <th></th>\n",
       "      <th>Employee_ID</th>\n",
       "      <th>Full_Name</th>\n",
       "      <th>Department</th>\n",
       "      <th>Job_Title</th>\n",
       "      <th>Hire_Date</th>\n",
       "      <th>Location</th>\n",
       "      <th>Performance_Rating</th>\n",
       "      <th>Experience_Years</th>\n",
       "      <th>Status</th>\n",
       "      <th>Work_Mode</th>\n",
       "      <th>Salary_INR</th>\n",
       "    </tr>\n",
       "  </thead>\n",
       "  <tbody>\n",
       "    <tr>\n",
       "      <th>0</th>\n",
       "      <td>EMP0000001</td>\n",
       "      <td>Joshua Nguyen</td>\n",
       "      <td>IT</td>\n",
       "      <td>Software Engineer</td>\n",
       "      <td>2011-08-10</td>\n",
       "      <td>Isaacland, Denmark</td>\n",
       "      <td>5</td>\n",
       "      <td>14</td>\n",
       "      <td>Resigned</td>\n",
       "      <td>On-site</td>\n",
       "      <td>1585363</td>\n",
       "    </tr>\n",
       "    <tr>\n",
       "      <th>1</th>\n",
       "      <td>EMP0000002</td>\n",
       "      <td>Julie Williams</td>\n",
       "      <td>Marketing</td>\n",
       "      <td>SEO Specialist</td>\n",
       "      <td>2018-03-02</td>\n",
       "      <td>Anthonyside, Costa Rica</td>\n",
       "      <td>2</td>\n",
       "      <td>7</td>\n",
       "      <td>Active</td>\n",
       "      <td>On-site</td>\n",
       "      <td>847686</td>\n",
       "    </tr>\n",
       "    <tr>\n",
       "      <th>2</th>\n",
       "      <td>EMP0000003</td>\n",
       "      <td>Alyssa Martinez</td>\n",
       "      <td>HR</td>\n",
       "      <td>HR Manager</td>\n",
       "      <td>2023-03-20</td>\n",
       "      <td>Port Christinaport, Saudi Arabia</td>\n",
       "      <td>1</td>\n",
       "      <td>2</td>\n",
       "      <td>Active</td>\n",
       "      <td>On-site</td>\n",
       "      <td>1430084</td>\n",
       "    </tr>\n",
       "    <tr>\n",
       "      <th>3</th>\n",
       "      <td>EMP0000004</td>\n",
       "      <td>Nicholas Valdez</td>\n",
       "      <td>IT</td>\n",
       "      <td>Software Engineer</td>\n",
       "      <td>2023-10-12</td>\n",
       "      <td>Port Shelbychester, Antigua and Barbuda</td>\n",
       "      <td>1</td>\n",
       "      <td>1</td>\n",
       "      <td>Active</td>\n",
       "      <td>On-site</td>\n",
       "      <td>990689</td>\n",
       "    </tr>\n",
       "    <tr>\n",
       "      <th>4</th>\n",
       "      <td>EMP0000005</td>\n",
       "      <td>Joel Hendricks</td>\n",
       "      <td>Operations</td>\n",
       "      <td>Logistics Coordinator</td>\n",
       "      <td>2024-12-09</td>\n",
       "      <td>Lake Kimberly, Palestinian Territory</td>\n",
       "      <td>5</td>\n",
       "      <td>0</td>\n",
       "      <td>Active</td>\n",
       "      <td>On-site</td>\n",
       "      <td>535082</td>\n",
       "    </tr>\n",
       "  </tbody>\n",
       "</table>\n",
       "</div>"
      ],
      "text/plain": [
       "  Employee_ID        Full_Name  Department              Job_Title  Hire_Date  \\\n",
       "0  EMP0000001    Joshua Nguyen          IT      Software Engineer 2011-08-10   \n",
       "1  EMP0000002   Julie Williams   Marketing         SEO Specialist 2018-03-02   \n",
       "2  EMP0000003  Alyssa Martinez          HR             HR Manager 2023-03-20   \n",
       "3  EMP0000004  Nicholas Valdez          IT      Software Engineer 2023-10-12   \n",
       "4  EMP0000005   Joel Hendricks  Operations  Logistics Coordinator 2024-12-09   \n",
       "\n",
       "                                  Location  Performance_Rating  \\\n",
       "0                       Isaacland, Denmark                   5   \n",
       "1                  Anthonyside, Costa Rica                   2   \n",
       "2         Port Christinaport, Saudi Arabia                   1   \n",
       "3  Port Shelbychester, Antigua and Barbuda                   1   \n",
       "4     Lake Kimberly, Palestinian Territory                   5   \n",
       "\n",
       "   Experience_Years    Status Work_Mode  Salary_INR  \n",
       "0                14  Resigned   On-site     1585363  \n",
       "1                 7    Active   On-site      847686  \n",
       "2                 2    Active   On-site     1430084  \n",
       "3                 1    Active   On-site      990689  \n",
       "4                 0    Active   On-site      535082  "
      ]
     },
     "execution_count": 12,
     "metadata": {},
     "output_type": "execute_result"
    }
   ],
   "source": [
    "df.head()"
   ]
  },
  {
   "cell_type": "code",
   "execution_count": 13,
   "id": "59e7d14f",
   "metadata": {},
   "outputs": [
    {
     "data": {
      "text/plain": [
       "array([5, 2, 1, 4, 3])"
      ]
     },
     "execution_count": 13,
     "metadata": {},
     "output_type": "execute_result"
    }
   ],
   "source": [
    "df['Performance_Rating'].unique()"
   ]
  },
  {
   "cell_type": "code",
   "execution_count": 14,
   "id": "7048f46d",
   "metadata": {},
   "outputs": [
    {
     "data": {
      "text/plain": [
       "Performance_Rating\n",
       "4    400529\n",
       "2    400174\n",
       "3    399814\n",
       "1    399756\n",
       "5    399727\n",
       "Name: count, dtype: int64"
      ]
     },
     "execution_count": 14,
     "metadata": {},
     "output_type": "execute_result"
    }
   ],
   "source": [
    "df['Performance_Rating'].value_counts()"
   ]
  },
  {
   "cell_type": "code",
   "execution_count": 15,
   "id": "946a68f0",
   "metadata": {},
   "outputs": [
    {
     "data": {
      "text/html": [
       "<div>\n",
       "<style scoped>\n",
       "    .dataframe tbody tr th:only-of-type {\n",
       "        vertical-align: middle;\n",
       "    }\n",
       "\n",
       "    .dataframe tbody tr th {\n",
       "        vertical-align: top;\n",
       "    }\n",
       "\n",
       "    .dataframe thead th {\n",
       "        text-align: right;\n",
       "    }\n",
       "</style>\n",
       "<table border=\"1\" class=\"dataframe\">\n",
       "  <thead>\n",
       "    <tr style=\"text-align: right;\">\n",
       "      <th></th>\n",
       "      <th>count</th>\n",
       "    </tr>\n",
       "    <tr>\n",
       "      <th>Performance_Rating</th>\n",
       "      <th></th>\n",
       "    </tr>\n",
       "  </thead>\n",
       "  <tbody>\n",
       "    <tr>\n",
       "      <th>4</th>\n",
       "      <td>400529</td>\n",
       "    </tr>\n",
       "    <tr>\n",
       "      <th>2</th>\n",
       "      <td>400174</td>\n",
       "    </tr>\n",
       "    <tr>\n",
       "      <th>3</th>\n",
       "      <td>399814</td>\n",
       "    </tr>\n",
       "    <tr>\n",
       "      <th>1</th>\n",
       "      <td>399756</td>\n",
       "    </tr>\n",
       "    <tr>\n",
       "      <th>5</th>\n",
       "      <td>399727</td>\n",
       "    </tr>\n",
       "  </tbody>\n",
       "</table>\n",
       "</div>"
      ],
      "text/plain": [
       "                     count\n",
       "Performance_Rating        \n",
       "4                   400529\n",
       "2                   400174\n",
       "3                   399814\n",
       "1                   399756\n",
       "5                   399727"
      ]
     },
     "execution_count": 15,
     "metadata": {},
     "output_type": "execute_result"
    }
   ],
   "source": [
    "df['Performance_Rating'].value_counts().to_frame()"
   ]
  },
  {
   "cell_type": "code",
   "execution_count": 16,
   "id": "dd1df2e1",
   "metadata": {},
   "outputs": [
    {
     "data": {
      "text/plain": [
       "np.float64(3.0001485)"
      ]
     },
     "execution_count": 16,
     "metadata": {},
     "output_type": "execute_result"
    }
   ],
   "source": [
    "df['Performance_Rating'].mean()"
   ]
  },
  {
   "cell_type": "code",
   "execution_count": 17,
   "id": "23f046fd",
   "metadata": {},
   "outputs": [
    {
     "data": {
      "text/plain": [
       "16"
      ]
     },
     "execution_count": 17,
     "metadata": {},
     "output_type": "execute_result"
    }
   ],
   "source": [
    "df['Experience_Years'].nunique()"
   ]
  },
  {
   "cell_type": "code",
   "execution_count": 18,
   "id": "f5f29b0e",
   "metadata": {},
   "outputs": [
    {
     "data": {
      "text/plain": [
       "array([14,  7,  2,  1,  0,  4,  9,  5,  6,  8,  3, 10, 11, 12, 13, 15])"
      ]
     },
     "execution_count": 18,
     "metadata": {},
     "output_type": "execute_result"
    }
   ],
   "source": [
    "df['Experience_Years'].unique()"
   ]
  },
  {
   "cell_type": "code",
   "execution_count": 19,
   "id": "84e0a05a",
   "metadata": {},
   "outputs": [
    {
     "data": {
      "text/plain": [
       "Experience_Years\n",
       "3     200522\n",
       "2     199924\n",
       "4     199866\n",
       "1     199162\n",
       "0     198775\n",
       "6     160410\n",
       "9     160223\n",
       "8     160212\n",
       "5     160112\n",
       "7     159005\n",
       "10     41209\n",
       "13     40149\n",
       "11     40146\n",
       "14     40005\n",
       "12     39709\n",
       "15       571\n",
       "Name: count, dtype: int64"
      ]
     },
     "execution_count": 19,
     "metadata": {},
     "output_type": "execute_result"
    }
   ],
   "source": [
    "df['Experience_Years'].value_counts()"
   ]
  },
  {
   "cell_type": "code",
   "execution_count": 20,
   "id": "631c2b06",
   "metadata": {},
   "outputs": [
    {
     "data": {
      "text/html": [
       "<div>\n",
       "<style scoped>\n",
       "    .dataframe tbody tr th:only-of-type {\n",
       "        vertical-align: middle;\n",
       "    }\n",
       "\n",
       "    .dataframe tbody tr th {\n",
       "        vertical-align: top;\n",
       "    }\n",
       "\n",
       "    .dataframe thead th {\n",
       "        text-align: right;\n",
       "    }\n",
       "</style>\n",
       "<table border=\"1\" class=\"dataframe\">\n",
       "  <thead>\n",
       "    <tr style=\"text-align: right;\">\n",
       "      <th></th>\n",
       "      <th>count</th>\n",
       "    </tr>\n",
       "    <tr>\n",
       "      <th>Experience_Years</th>\n",
       "      <th></th>\n",
       "    </tr>\n",
       "  </thead>\n",
       "  <tbody>\n",
       "    <tr>\n",
       "      <th>3</th>\n",
       "      <td>200522</td>\n",
       "    </tr>\n",
       "    <tr>\n",
       "      <th>2</th>\n",
       "      <td>199924</td>\n",
       "    </tr>\n",
       "    <tr>\n",
       "      <th>4</th>\n",
       "      <td>199866</td>\n",
       "    </tr>\n",
       "    <tr>\n",
       "      <th>1</th>\n",
       "      <td>199162</td>\n",
       "    </tr>\n",
       "    <tr>\n",
       "      <th>0</th>\n",
       "      <td>198775</td>\n",
       "    </tr>\n",
       "    <tr>\n",
       "      <th>6</th>\n",
       "      <td>160410</td>\n",
       "    </tr>\n",
       "    <tr>\n",
       "      <th>9</th>\n",
       "      <td>160223</td>\n",
       "    </tr>\n",
       "    <tr>\n",
       "      <th>8</th>\n",
       "      <td>160212</td>\n",
       "    </tr>\n",
       "    <tr>\n",
       "      <th>5</th>\n",
       "      <td>160112</td>\n",
       "    </tr>\n",
       "    <tr>\n",
       "      <th>7</th>\n",
       "      <td>159005</td>\n",
       "    </tr>\n",
       "    <tr>\n",
       "      <th>10</th>\n",
       "      <td>41209</td>\n",
       "    </tr>\n",
       "    <tr>\n",
       "      <th>13</th>\n",
       "      <td>40149</td>\n",
       "    </tr>\n",
       "    <tr>\n",
       "      <th>11</th>\n",
       "      <td>40146</td>\n",
       "    </tr>\n",
       "    <tr>\n",
       "      <th>14</th>\n",
       "      <td>40005</td>\n",
       "    </tr>\n",
       "    <tr>\n",
       "      <th>12</th>\n",
       "      <td>39709</td>\n",
       "    </tr>\n",
       "    <tr>\n",
       "      <th>15</th>\n",
       "      <td>571</td>\n",
       "    </tr>\n",
       "  </tbody>\n",
       "</table>\n",
       "</div>"
      ],
      "text/plain": [
       "                   count\n",
       "Experience_Years        \n",
       "3                 200522\n",
       "2                 199924\n",
       "4                 199866\n",
       "1                 199162\n",
       "0                 198775\n",
       "6                 160410\n",
       "9                 160223\n",
       "8                 160212\n",
       "5                 160112\n",
       "7                 159005\n",
       "10                 41209\n",
       "13                 40149\n",
       "11                 40146\n",
       "14                 40005\n",
       "12                 39709\n",
       "15                   571"
      ]
     },
     "execution_count": 20,
     "metadata": {},
     "output_type": "execute_result"
    }
   ],
   "source": [
    "df['Experience_Years'].value_counts().to_frame()"
   ]
  },
  {
   "cell_type": "code",
   "execution_count": 21,
   "id": "ad4e711b",
   "metadata": {},
   "outputs": [
    {
     "data": {
      "image/png": "[encoded data removed]",
      "text/plain": [
       "<Figure size 640x480 with 1 Axes>"
      ]
     },
     "metadata": {},
     "output_type": "display_data"
    }
   ],
   "source": [
    "sns.countplot(x='Experience_Years',data=df)\n",
    "plt.show()"
   ]
  },
  {
   "cell_type": "code",
   "execution_count": 22,
   "id": "f692047c",
   "metadata": {},
   "outputs": [
    {
     "data": {
      "text/html": [
       "<div>\n",
       "<style scoped>\n",
       "    .dataframe tbody tr th:only-of-type {\n",
       "        vertical-align: middle;\n",
       "    }\n",
       "\n",
       "    .dataframe tbody tr th {\n",
       "        vertical-align: top;\n",
       "    }\n",
       "\n",
       "    .dataframe thead th {\n",
       "        text-align: right;\n",
       "    }\n",
       "</style>\n",
       "<table border=\"1\" class=\"dataframe\">\n",
       "  <thead>\n",
       "    <tr style=\"text-align: right;\">\n",
       "      <th></th>\n",
       "      <th>Employee_ID</th>\n",
       "      <th>Full_Name</th>\n",
       "      <th>Department</th>\n",
       "      <th>Job_Title</th>\n",
       "      <th>Location</th>\n",
       "      <th>Status</th>\n",
       "      <th>Work_Mode</th>\n",
       "    </tr>\n",
       "  </thead>\n",
       "  <tbody>\n",
       "    <tr>\n",
       "      <th>0</th>\n",
       "      <td>EMP0000001</td>\n",
       "      <td>Joshua Nguyen</td>\n",
       "      <td>IT</td>\n",
       "      <td>Software Engineer</td>\n",
       "      <td>Isaacland, Denmark</td>\n",
       "      <td>Resigned</td>\n",
       "      <td>On-site</td>\n",
       "    </tr>\n",
       "    <tr>\n",
       "      <th>1</th>\n",
       "      <td>EMP0000002</td>\n",
       "      <td>Julie Williams</td>\n",
       "      <td>Marketing</td>\n",
       "      <td>SEO Specialist</td>\n",
       "      <td>Anthonyside, Costa Rica</td>\n",
       "      <td>Active</td>\n",
       "      <td>On-site</td>\n",
       "    </tr>\n",
       "    <tr>\n",
       "      <th>2</th>\n",
       "      <td>EMP0000003</td>\n",
       "      <td>Alyssa Martinez</td>\n",
       "      <td>HR</td>\n",
       "      <td>HR Manager</td>\n",
       "      <td>Port Christinaport, Saudi Arabia</td>\n",
       "      <td>Active</td>\n",
       "      <td>On-site</td>\n",
       "    </tr>\n",
       "    <tr>\n",
       "      <th>3</th>\n",
       "      <td>EMP0000004</td>\n",
       "      <td>Nicholas Valdez</td>\n",
       "      <td>IT</td>\n",
       "      <td>Software Engineer</td>\n",
       "      <td>Port Shelbychester, Antigua and Barbuda</td>\n",
       "      <td>Active</td>\n",
       "      <td>On-site</td>\n",
       "    </tr>\n",
       "    <tr>\n",
       "      <th>4</th>\n",
       "      <td>EMP0000005</td>\n",
       "      <td>Joel Hendricks</td>\n",
       "      <td>Operations</td>\n",
       "      <td>Logistics Coordinator</td>\n",
       "      <td>Lake Kimberly, Palestinian Territory</td>\n",
       "      <td>Active</td>\n",
       "      <td>On-site</td>\n",
       "    </tr>\n",
       "    <tr>\n",
       "      <th>...</th>\n",
       "      <td>...</td>\n",
       "      <td>...</td>\n",
       "      <td>...</td>\n",
       "      <td>...</td>\n",
       "      <td>...</td>\n",
       "      <td>...</td>\n",
       "      <td>...</td>\n",
       "    </tr>\n",
       "    <tr>\n",
       "      <th>1999995</th>\n",
       "      <td>EMP1999996</td>\n",
       "      <td>Cody Russell</td>\n",
       "      <td>Operations</td>\n",
       "      <td>Logistics Coordinator</td>\n",
       "      <td>Casefurt, Serbia</td>\n",
       "      <td>Active</td>\n",
       "      <td>Remote</td>\n",
       "    </tr>\n",
       "    <tr>\n",
       "      <th>1999996</th>\n",
       "      <td>EMP1999997</td>\n",
       "      <td>Tracey Smith</td>\n",
       "      <td>IT</td>\n",
       "      <td>Software Engineer</td>\n",
       "      <td>Dannyport, Kuwait</td>\n",
       "      <td>Active</td>\n",
       "      <td>On-site</td>\n",
       "    </tr>\n",
       "    <tr>\n",
       "      <th>1999997</th>\n",
       "      <td>EMP1999998</td>\n",
       "      <td>Tracy Lee</td>\n",
       "      <td>Sales</td>\n",
       "      <td>Business Development Manager</td>\n",
       "      <td>Craighaven, Nigeria</td>\n",
       "      <td>Active</td>\n",
       "      <td>Remote</td>\n",
       "    </tr>\n",
       "    <tr>\n",
       "      <th>1999998</th>\n",
       "      <td>EMP1999999</td>\n",
       "      <td>Michael Roberson</td>\n",
       "      <td>IT</td>\n",
       "      <td>Software Engineer</td>\n",
       "      <td>Jonathanmouth, Djibouti</td>\n",
       "      <td>Retired</td>\n",
       "      <td>On-site</td>\n",
       "    </tr>\n",
       "    <tr>\n",
       "      <th>1999999</th>\n",
       "      <td>EMP2000000</td>\n",
       "      <td>Angela Lambert</td>\n",
       "      <td>HR</td>\n",
       "      <td>Talent Acquisition Specialist</td>\n",
       "      <td>Morganchester, Canada</td>\n",
       "      <td>Active</td>\n",
       "      <td>Remote</td>\n",
       "    </tr>\n",
       "  </tbody>\n",
       "</table>\n",
       "<p>2000000 rows × 7 columns</p>\n",
       "</div>"
      ],
      "text/plain": [
       "        Employee_ID         Full_Name  Department  \\\n",
       "0        EMP0000001     Joshua Nguyen          IT   \n",
       "1        EMP0000002    Julie Williams   Marketing   \n",
       "2        EMP0000003   Alyssa Martinez          HR   \n",
       "3        EMP0000004   Nicholas Valdez          IT   \n",
       "4        EMP0000005    Joel Hendricks  Operations   \n",
       "...             ...               ...         ...   \n",
       "1999995  EMP1999996      Cody Russell  Operations   \n",
       "1999996  EMP1999997      Tracey Smith          IT   \n",
       "1999997  EMP1999998         Tracy Lee       Sales   \n",
       "1999998  EMP1999999  Michael Roberson          IT   \n",
       "1999999  EMP2000000    Angela Lambert          HR   \n",
       "\n",
       "                             Job_Title  \\\n",
       "0                    Software Engineer   \n",
       "1                       SEO Specialist   \n",
       "2                           HR Manager   \n",
       "3                    Software Engineer   \n",
       "4                Logistics Coordinator   \n",
       "...                                ...   \n",
       "1999995          Logistics Coordinator   \n",
       "1999996              Software Engineer   \n",
       "1999997   Business Development Manager   \n",
       "1999998              Software Engineer   \n",
       "1999999  Talent Acquisition Specialist   \n",
       "\n",
       "                                        Location    Status Work_Mode  \n",
       "0                             Isaacland, Denmark  Resigned   On-site  \n",
       "1                        Anthonyside, Costa Rica    Active   On-site  \n",
       "2               Port Christinaport, Saudi Arabia    Active   On-site  \n",
       "3        Port Shelbychester, Antigua and Barbuda    Active   On-site  \n",
       "4           Lake Kimberly, Palestinian Territory    Active   On-site  \n",
       "...                                          ...       ...       ...  \n",
       "1999995                         Casefurt, Serbia    Active    Remote  \n",
       "1999996                        Dannyport, Kuwait    Active   On-site  \n",
       "1999997                      Craighaven, Nigeria    Active    Remote  \n",
       "1999998                  Jonathanmouth, Djibouti   Retired   On-site  \n",
       "1999999                    Morganchester, Canada    Active    Remote  \n",
       "\n",
       "[2000000 rows x 7 columns]"
      ]
     },
     "execution_count": 22,
     "metadata": {},
     "output_type": "execute_result"
    }
   ],
   "source": [
    "# consider the columns having data-type 'Object'  only\n",
    "df.select_dtypes(include='object')"
   ]
  },
  {
   "cell_type": "code",
   "execution_count": 23,
   "id": "06e1ed1f",
   "metadata": {},
   "outputs": [
    {
     "data": {
      "text/html": [
       "<div>\n",
       "<style scoped>\n",
       "    .dataframe tbody tr th:only-of-type {\n",
       "        vertical-align: middle;\n",
       "    }\n",
       "\n",
       "    .dataframe tbody tr th {\n",
       "        vertical-align: top;\n",
       "    }\n",
       "\n",
       "    .dataframe thead th {\n",
       "        text-align: right;\n",
       "    }\n",
       "</style>\n",
       "<table border=\"1\" class=\"dataframe\">\n",
       "  <thead>\n",
       "    <tr style=\"text-align: right;\">\n",
       "      <th></th>\n",
       "      <th>Performance_Rating</th>\n",
       "      <th>Experience_Years</th>\n",
       "      <th>Salary_INR</th>\n",
       "    </tr>\n",
       "  </thead>\n",
       "  <tbody>\n",
       "    <tr>\n",
       "      <th>0</th>\n",
       "      <td>5</td>\n",
       "      <td>14</td>\n",
       "      <td>1585363</td>\n",
       "    </tr>\n",
       "    <tr>\n",
       "      <th>1</th>\n",
       "      <td>2</td>\n",
       "      <td>7</td>\n",
       "      <td>847686</td>\n",
       "    </tr>\n",
       "    <tr>\n",
       "      <th>2</th>\n",
       "      <td>1</td>\n",
       "      <td>2</td>\n",
       "      <td>1430084</td>\n",
       "    </tr>\n",
       "    <tr>\n",
       "      <th>3</th>\n",
       "      <td>1</td>\n",
       "      <td>1</td>\n",
       "      <td>990689</td>\n",
       "    </tr>\n",
       "    <tr>\n",
       "      <th>4</th>\n",
       "      <td>5</td>\n",
       "      <td>0</td>\n",
       "      <td>535082</td>\n",
       "    </tr>\n",
       "    <tr>\n",
       "      <th>...</th>\n",
       "      <td>...</td>\n",
       "      <td>...</td>\n",
       "      <td>...</td>\n",
       "    </tr>\n",
       "    <tr>\n",
       "      <th>1999995</th>\n",
       "      <td>3</td>\n",
       "      <td>14</td>\n",
       "      <td>657648</td>\n",
       "    </tr>\n",
       "    <tr>\n",
       "      <th>1999996</th>\n",
       "      <td>3</td>\n",
       "      <td>4</td>\n",
       "      <td>1030109</td>\n",
       "    </tr>\n",
       "    <tr>\n",
       "      <th>1999997</th>\n",
       "      <td>5</td>\n",
       "      <td>1</td>\n",
       "      <td>1313085</td>\n",
       "    </tr>\n",
       "    <tr>\n",
       "      <th>1999998</th>\n",
       "      <td>4</td>\n",
       "      <td>2</td>\n",
       "      <td>1479727</td>\n",
       "    </tr>\n",
       "    <tr>\n",
       "      <th>1999999</th>\n",
       "      <td>1</td>\n",
       "      <td>4</td>\n",
       "      <td>993718</td>\n",
       "    </tr>\n",
       "  </tbody>\n",
       "</table>\n",
       "<p>2000000 rows × 3 columns</p>\n",
       "</div>"
      ],
      "text/plain": [
       "         Performance_Rating  Experience_Years  Salary_INR\n",
       "0                         5                14     1585363\n",
       "1                         2                 7      847686\n",
       "2                         1                 2     1430084\n",
       "3                         1                 1      990689\n",
       "4                         5                 0      535082\n",
       "...                     ...               ...         ...\n",
       "1999995                   3                14      657648\n",
       "1999996                   3                 4     1030109\n",
       "1999997                   5                 1     1313085\n",
       "1999998                   4                 2     1479727\n",
       "1999999                   1                 4      993718\n",
       "\n",
       "[2000000 rows x 3 columns]"
      ]
     },
     "execution_count": 23,
     "metadata": {},
     "output_type": "execute_result"
    }
   ],
   "source": [
    "df.select_dtypes(include='number')"
   ]
  },
  {
   "cell_type": "markdown",
   "id": "58a30181",
   "metadata": {},
   "source": [
    "1.What is the distribution of Employees Status ?"
   ]
  },
  {
   "cell_type": "code",
   "execution_count": 24,
   "id": "7c4bbc4c",
   "metadata": {},
   "outputs": [
    {
     "data": {
      "text/html": [
       "<div>\n",
       "<style scoped>\n",
       "    .dataframe tbody tr th:only-of-type {\n",
       "        vertical-align: middle;\n",
       "    }\n",
       "\n",
       "    .dataframe tbody tr th {\n",
       "        vertical-align: top;\n",
       "    }\n",
       "\n",
       "    .dataframe thead th {\n",
       "        text-align: right;\n",
       "    }\n",
       "</style>\n",
       "<table border=\"1\" class=\"dataframe\">\n",
       "  <thead>\n",
       "    <tr style=\"text-align: right;\">\n",
       "      <th></th>\n",
       "      <th>Employee_ID</th>\n",
       "      <th>Full_Name</th>\n",
       "      <th>Department</th>\n",
       "      <th>Job_Title</th>\n",
       "      <th>Hire_Date</th>\n",
       "      <th>Location</th>\n",
       "      <th>Performance_Rating</th>\n",
       "      <th>Experience_Years</th>\n",
       "      <th>Status</th>\n",
       "      <th>Work_Mode</th>\n",
       "      <th>Salary_INR</th>\n",
       "    </tr>\n",
       "  </thead>\n",
       "  <tbody>\n",
       "    <tr>\n",
       "      <th>0</th>\n",
       "      <td>EMP0000001</td>\n",
       "      <td>Joshua Nguyen</td>\n",
       "      <td>IT</td>\n",
       "      <td>Software Engineer</td>\n",
       "      <td>2011-08-10</td>\n",
       "      <td>Isaacland, Denmark</td>\n",
       "      <td>5</td>\n",
       "      <td>14</td>\n",
       "      <td>Resigned</td>\n",
       "      <td>On-site</td>\n",
       "      <td>1585363</td>\n",
       "    </tr>\n",
       "    <tr>\n",
       "      <th>1</th>\n",
       "      <td>EMP0000002</td>\n",
       "      <td>Julie Williams</td>\n",
       "      <td>Marketing</td>\n",
       "      <td>SEO Specialist</td>\n",
       "      <td>2018-03-02</td>\n",
       "      <td>Anthonyside, Costa Rica</td>\n",
       "      <td>2</td>\n",
       "      <td>7</td>\n",
       "      <td>Active</td>\n",
       "      <td>On-site</td>\n",
       "      <td>847686</td>\n",
       "    </tr>\n",
       "  </tbody>\n",
       "</table>\n",
       "</div>"
      ],
      "text/plain": [
       "  Employee_ID       Full_Name Department          Job_Title  Hire_Date  \\\n",
       "0  EMP0000001   Joshua Nguyen         IT  Software Engineer 2011-08-10   \n",
       "1  EMP0000002  Julie Williams  Marketing     SEO Specialist 2018-03-02   \n",
       "\n",
       "                  Location  Performance_Rating  Experience_Years    Status  \\\n",
       "0       Isaacland, Denmark                   5                14  Resigned   \n",
       "1  Anthonyside, Costa Rica                   2                 7    Active   \n",
       "\n",
       "  Work_Mode  Salary_INR  \n",
       "0   On-site     1585363  \n",
       "1   On-site      847686  "
      ]
     },
     "execution_count": 24,
     "metadata": {},
     "output_type": "execute_result"
    }
   ],
   "source": [
    "df.head(2)"
   ]
  },
  {
   "cell_type": "code",
   "execution_count": 25,
   "id": "4076c54b",
   "metadata": {},
   "outputs": [
    {
     "data": {
      "text/plain": [
       "0          Resigned\n",
       "1            Active\n",
       "2            Active\n",
       "3            Active\n",
       "4            Active\n",
       "             ...   \n",
       "1999995      Active\n",
       "1999996      Active\n",
       "1999997      Active\n",
       "1999998     Retired\n",
       "1999999      Active\n",
       "Name: Status, Length: 2000000, dtype: object"
      ]
     },
     "execution_count": 25,
     "metadata": {},
     "output_type": "execute_result"
    }
   ],
   "source": [
    "df['Status']"
   ]
  },
  {
   "cell_type": "code",
   "execution_count": 27,
   "id": "a3952321",
   "metadata": {},
   "outputs": [
    {
     "data": {
      "text/plain": [
       "Status\n",
       "Active        1401558\n",
       "Resigned       398660\n",
       "Retired         99912\n",
       "Terminated      99870\n",
       "Name: count, dtype: int64"
      ]
     },
     "execution_count": 27,
     "metadata": {},
     "output_type": "execute_result"
    }
   ],
   "source": [
    "status=df['Status'].value_counts()\n",
    "status"
   ]
  },
  {
   "cell_type": "code",
   "execution_count": 28,
   "id": "179a79de",
   "metadata": {},
   "outputs": [
    {
     "data": {
      "text/plain": [
       "<Axes: xlabel='Status', ylabel='count'>"
      ]
     },
     "execution_count": 28,
     "metadata": {},
     "output_type": "execute_result"
    },
    {
     "data": {
      "image/png": "[encoded data removed]",
      "text/plain": [
       "<Figure size 640x480 with 1 Axes>"
      ]
     },
     "metadata": {},
     "output_type": "display_data"
    }
   ],
   "source": [
    "sns.countplot(x='Status',data=df)"
   ]
  },
  {
   "cell_type": "code",
   "execution_count": 29,
   "id": "098c7331",
   "metadata": {},
   "outputs": [
    {
     "data": {
      "image/png": "[encoded data removed]",
      "text/plain": [
       "<Figure size 640x480 with 1 Axes>"
      ]
     },
     "metadata": {},
     "output_type": "display_data"
    }
   ],
   "source": [
    "status.plot(kind='pie',colors='mygr',autopct='%1.1f%%',explode=(0.03,0.03,0.03,0.03))\n",
    "plt.show()"
   ]
  },
  {
   "cell_type": "markdown",
   "id": "4dd8f426",
   "metadata": {},
   "source": [
    "2.What is the distribution of work modes ?"
   ]
  },
  {
   "cell_type": "code",
   "execution_count": 30,
   "id": "7a017973",
   "metadata": {},
   "outputs": [
    {
     "data": {
      "text/html": [
       "<div>\n",
       "<style scoped>\n",
       "    .dataframe tbody tr th:only-of-type {\n",
       "        vertical-align: middle;\n",
       "    }\n",
       "\n",
       "    .dataframe tbody tr th {\n",
       "        vertical-align: top;\n",
       "    }\n",
       "\n",
       "    .dataframe thead th {\n",
       "        text-align: right;\n",
       "    }\n",
       "</style>\n",
       "<table border=\"1\" class=\"dataframe\">\n",
       "  <thead>\n",
       "    <tr style=\"text-align: right;\">\n",
       "      <th></th>\n",
       "      <th>Employee_ID</th>\n",
       "      <th>Full_Name</th>\n",
       "      <th>Department</th>\n",
       "      <th>Job_Title</th>\n",
       "      <th>Hire_Date</th>\n",
       "      <th>Location</th>\n",
       "      <th>Performance_Rating</th>\n",
       "      <th>Experience_Years</th>\n",
       "      <th>Status</th>\n",
       "      <th>Work_Mode</th>\n",
       "      <th>Salary_INR</th>\n",
       "    </tr>\n",
       "  </thead>\n",
       "  <tbody>\n",
       "    <tr>\n",
       "      <th>0</th>\n",
       "      <td>EMP0000001</td>\n",
       "      <td>Joshua Nguyen</td>\n",
       "      <td>IT</td>\n",
       "      <td>Software Engineer</td>\n",
       "      <td>2011-08-10</td>\n",
       "      <td>Isaacland, Denmark</td>\n",
       "      <td>5</td>\n",
       "      <td>14</td>\n",
       "      <td>Resigned</td>\n",
       "      <td>On-site</td>\n",
       "      <td>1585363</td>\n",
       "    </tr>\n",
       "    <tr>\n",
       "      <th>1</th>\n",
       "      <td>EMP0000002</td>\n",
       "      <td>Julie Williams</td>\n",
       "      <td>Marketing</td>\n",
       "      <td>SEO Specialist</td>\n",
       "      <td>2018-03-02</td>\n",
       "      <td>Anthonyside, Costa Rica</td>\n",
       "      <td>2</td>\n",
       "      <td>7</td>\n",
       "      <td>Active</td>\n",
       "      <td>On-site</td>\n",
       "      <td>847686</td>\n",
       "    </tr>\n",
       "  </tbody>\n",
       "</table>\n",
       "</div>"
      ],
      "text/plain": [
       "  Employee_ID       Full_Name Department          Job_Title  Hire_Date  \\\n",
       "0  EMP0000001   Joshua Nguyen         IT  Software Engineer 2011-08-10   \n",
       "1  EMP0000002  Julie Williams  Marketing     SEO Specialist 2018-03-02   \n",
       "\n",
       "                  Location  Performance_Rating  Experience_Years    Status  \\\n",
       "0       Isaacland, Denmark                   5                14  Resigned   \n",
       "1  Anthonyside, Costa Rica                   2                 7    Active   \n",
       "\n",
       "  Work_Mode  Salary_INR  \n",
       "0   On-site     1585363  \n",
       "1   On-site      847686  "
      ]
     },
     "execution_count": 30,
     "metadata": {},
     "output_type": "execute_result"
    }
   ],
   "source": [
    "df.head(2)"
   ]
  },
  {
   "cell_type": "code",
   "execution_count": 32,
   "id": "a24f7c27",
   "metadata": {},
   "outputs": [
    {
     "data": {
      "text/plain": [
       "Work_Mode\n",
       "On-site    1199109\n",
       "Remote      800891\n",
       "Name: count, dtype: int64"
      ]
     },
     "execution_count": 32,
     "metadata": {},
     "output_type": "execute_result"
    }
   ],
   "source": [
    "work_mode=df['Work_Mode'].value_counts()\n",
    "work_mode"
   ]
  },
  {
   "cell_type": "code",
   "execution_count": 34,
   "id": "110862e9",
   "metadata": {},
   "outputs": [
    {
     "data": {
      "text/plain": [
       "<Axes: xlabel='Work_Mode', ylabel='count'>"
      ]
     },
     "execution_count": 34,
     "metadata": {},
     "output_type": "execute_result"
    },
    {
     "data": {
      "image/png": "[encoded data removed]",
      "text/plain": [
       "<Figure size 640x480 with 1 Axes>"
      ]
     },
     "metadata": {},
     "output_type": "display_data"
    }
   ],
   "source": [
    "sns.countplot(x='Work_Mode',data=df)"
   ]
  },
  {
   "cell_type": "code",
   "execution_count": 36,
   "id": "fdf91649",
   "metadata": {},
   "outputs": [
    {
     "data": {
      "image/png": "[encoded data removed]",
      "text/plain": [
       "<Figure size 640x480 with 1 Axes>"
      ]
     },
     "metadata": {},
     "output_type": "display_data"
    }
   ],
   "source": [
    "work_mode.plot(kind='pie',colors='mygr',autopct='%1.1f%%',shadow=True,explode=(0.03,0.03))\n",
    "plt.show()"
   ]
  },
  {
   "cell_type": "markdown",
   "id": "877959a4",
   "metadata": {},
   "source": [
    "3.How many employes are there in each depatment?"
   ]
  },
  {
   "cell_type": "code",
   "execution_count": 37,
   "id": "6e22fb4f",
   "metadata": {},
   "outputs": [
    {
     "data": {
      "text/html": [
       "<div>\n",
       "<style scoped>\n",
       "    .dataframe tbody tr th:only-of-type {\n",
       "        vertical-align: middle;\n",
       "    }\n",
       "\n",
       "    .dataframe tbody tr th {\n",
       "        vertical-align: top;\n",
       "    }\n",
       "\n",
       "    .dataframe thead th {\n",
       "        text-align: right;\n",
       "    }\n",
       "</style>\n",
       "<table border=\"1\" class=\"dataframe\">\n",
       "  <thead>\n",
       "    <tr style=\"text-align: right;\">\n",
       "      <th></th>\n",
       "      <th>Employee_ID</th>\n",
       "      <th>Full_Name</th>\n",
       "      <th>Department</th>\n",
       "      <th>Job_Title</th>\n",
       "      <th>Hire_Date</th>\n",
       "      <th>Location</th>\n",
       "      <th>Performance_Rating</th>\n",
       "      <th>Experience_Years</th>\n",
       "      <th>Status</th>\n",
       "      <th>Work_Mode</th>\n",
       "      <th>Salary_INR</th>\n",
       "    </tr>\n",
       "  </thead>\n",
       "  <tbody>\n",
       "    <tr>\n",
       "      <th>0</th>\n",
       "      <td>EMP0000001</td>\n",
       "      <td>Joshua Nguyen</td>\n",
       "      <td>IT</td>\n",
       "      <td>Software Engineer</td>\n",
       "      <td>2011-08-10</td>\n",
       "      <td>Isaacland, Denmark</td>\n",
       "      <td>5</td>\n",
       "      <td>14</td>\n",
       "      <td>Resigned</td>\n",
       "      <td>On-site</td>\n",
       "      <td>1585363</td>\n",
       "    </tr>\n",
       "    <tr>\n",
       "      <th>1</th>\n",
       "      <td>EMP0000002</td>\n",
       "      <td>Julie Williams</td>\n",
       "      <td>Marketing</td>\n",
       "      <td>SEO Specialist</td>\n",
       "      <td>2018-03-02</td>\n",
       "      <td>Anthonyside, Costa Rica</td>\n",
       "      <td>2</td>\n",
       "      <td>7</td>\n",
       "      <td>Active</td>\n",
       "      <td>On-site</td>\n",
       "      <td>847686</td>\n",
       "    </tr>\n",
       "  </tbody>\n",
       "</table>\n",
       "</div>"
      ],
      "text/plain": [
       "  Employee_ID       Full_Name Department          Job_Title  Hire_Date  \\\n",
       "0  EMP0000001   Joshua Nguyen         IT  Software Engineer 2011-08-10   \n",
       "1  EMP0000002  Julie Williams  Marketing     SEO Specialist 2018-03-02   \n",
       "\n",
       "                  Location  Performance_Rating  Experience_Years    Status  \\\n",
       "0       Isaacland, Denmark                   5                14  Resigned   \n",
       "1  Anthonyside, Costa Rica                   2                 7    Active   \n",
       "\n",
       "  Work_Mode  Salary_INR  \n",
       "0   On-site     1585363  \n",
       "1   On-site      847686  "
      ]
     },
     "execution_count": 37,
     "metadata": {},
     "output_type": "execute_result"
    }
   ],
   "source": [
    "df.head(2)"
   ]
  },
  {
   "cell_type": "code",
   "execution_count": 38,
   "id": "70daeb0a",
   "metadata": {},
   "outputs": [
    {
     "data": {
      "text/plain": [
       "0                  IT\n",
       "1           Marketing\n",
       "2                  HR\n",
       "3                  IT\n",
       "4          Operations\n",
       "              ...    \n",
       "1999995    Operations\n",
       "1999996            IT\n",
       "1999997         Sales\n",
       "1999998            IT\n",
       "1999999            HR\n",
       "Name: Department, Length: 2000000, dtype: object"
      ]
     },
     "execution_count": 38,
     "metadata": {},
     "output_type": "execute_result"
    }
   ],
   "source": [
    "df['Department']"
   ]
  },
  {
   "cell_type": "code",
   "execution_count": 39,
   "id": "99cf5636",
   "metadata": {},
   "outputs": [
    {
     "data": {
      "text/html": [
       "<div>\n",
       "<style scoped>\n",
       "    .dataframe tbody tr th:only-of-type {\n",
       "        vertical-align: middle;\n",
       "    }\n",
       "\n",
       "    .dataframe tbody tr th {\n",
       "        vertical-align: top;\n",
       "    }\n",
       "\n",
       "    .dataframe thead th {\n",
       "        text-align: right;\n",
       "    }\n",
       "</style>\n",
       "<table border=\"1\" class=\"dataframe\">\n",
       "  <thead>\n",
       "    <tr style=\"text-align: right;\">\n",
       "      <th></th>\n",
       "      <th>Department</th>\n",
       "    </tr>\n",
       "  </thead>\n",
       "  <tbody>\n",
       "    <tr>\n",
       "      <th>0</th>\n",
       "      <td>IT</td>\n",
       "    </tr>\n",
       "    <tr>\n",
       "      <th>1</th>\n",
       "      <td>Marketing</td>\n",
       "    </tr>\n",
       "    <tr>\n",
       "      <th>2</th>\n",
       "      <td>HR</td>\n",
       "    </tr>\n",
       "    <tr>\n",
       "      <th>3</th>\n",
       "      <td>IT</td>\n",
       "    </tr>\n",
       "    <tr>\n",
       "      <th>4</th>\n",
       "      <td>Operations</td>\n",
       "    </tr>\n",
       "    <tr>\n",
       "      <th>...</th>\n",
       "      <td>...</td>\n",
       "    </tr>\n",
       "    <tr>\n",
       "      <th>1999995</th>\n",
       "      <td>Operations</td>\n",
       "    </tr>\n",
       "    <tr>\n",
       "      <th>1999996</th>\n",
       "      <td>IT</td>\n",
       "    </tr>\n",
       "    <tr>\n",
       "      <th>1999997</th>\n",
       "      <td>Sales</td>\n",
       "    </tr>\n",
       "    <tr>\n",
       "      <th>1999998</th>\n",
       "      <td>IT</td>\n",
       "    </tr>\n",
       "    <tr>\n",
       "      <th>1999999</th>\n",
       "      <td>HR</td>\n",
       "    </tr>\n",
       "  </tbody>\n",
       "</table>\n",
       "<p>2000000 rows × 1 columns</p>\n",
       "</div>"
      ],
      "text/plain": [
       "         Department\n",
       "0                IT\n",
       "1         Marketing\n",
       "2                HR\n",
       "3                IT\n",
       "4        Operations\n",
       "...             ...\n",
       "1999995  Operations\n",
       "1999996          IT\n",
       "1999997       Sales\n",
       "1999998          IT\n",
       "1999999          HR\n",
       "\n",
       "[2000000 rows x 1 columns]"
      ]
     },
     "execution_count": 39,
     "metadata": {},
     "output_type": "execute_result"
    }
   ],
   "source": [
    "df[['Department']]"
   ]
  },
  {
   "cell_type": "code",
   "execution_count": 42,
   "id": "debfe371",
   "metadata": {},
   "outputs": [
    {
     "data": {
      "text/plain": [
       "Department\n",
       "IT            601042\n",
       "Sales         400031\n",
       "Operations    300095\n",
       "Marketing     240081\n",
       "Finance       199873\n",
       "HR            159119\n",
       "R&D            99759\n",
       "Name: count, dtype: int64"
      ]
     },
     "execution_count": 42,
     "metadata": {},
     "output_type": "execute_result"
    }
   ],
   "source": [
    "department=df['Department'].value_counts()\n",
    "department"
   ]
  },
  {
   "cell_type": "code",
   "execution_count": 41,
   "id": "b22865a1",
   "metadata": {},
   "outputs": [
    {
     "data": {
      "text/plain": [
       "<Axes: xlabel='Department', ylabel='count'>"
      ]
     },
     "execution_count": 41,
     "metadata": {},
     "output_type": "execute_result"
    },
    {
     "data": {
      "image/png": "[encoded data removed]",
      "text/plain": [
       "<Figure size 640x480 with 1 Axes>"
      ]
     },
     "metadata": {},
     "output_type": "display_data"
    }
   ],
   "source": [
    "sns.countplot(x='Department',data=df)"
   ]
  },
  {
   "cell_type": "code",
   "execution_count": 48,
   "id": "b3ed3ac3",
   "metadata": {},
   "outputs": [
    {
     "data": {
      "text/plain": [
       "<Axes: ylabel='count'>"
      ]
     },
     "execution_count": 48,
     "metadata": {},
     "output_type": "execute_result"
    },
    {
     "data": {
      "image/png": "[encoded data removed]",
      "text/plain": [
       "<Figure size 640x480 with 1 Axes>"
      ]
     },
     "metadata": {},
     "output_type": "display_data"
    }
   ],
   "source": [
    "department.plot(kind='pie',autopct='%1.1f%%',shadow=False,explode=(0.03,0.03,0.03,0.03,0.03,0.03,0.03))"
   ]
  },
  {
   "cell_type": "markdown",
   "id": "465ae264",
   "metadata": {},
   "source": [
    "4.What is the average salary by department?"
   ]
  },
  {
   "cell_type": "code",
   "execution_count": 50,
   "id": "c5a45ae0",
   "metadata": {},
   "outputs": [
    {
     "data": {
      "text/html": [
       "<div>\n",
       "<style scoped>\n",
       "    .dataframe tbody tr th:only-of-type {\n",
       "        vertical-align: middle;\n",
       "    }\n",
       "\n",
       "    .dataframe tbody tr th {\n",
       "        vertical-align: top;\n",
       "    }\n",
       "\n",
       "    .dataframe thead th {\n",
       "        text-align: right;\n",
       "    }\n",
       "</style>\n",
       "<table border=\"1\" class=\"dataframe\">\n",
       "  <thead>\n",
       "    <tr style=\"text-align: right;\">\n",
       "      <th></th>\n",
       "      <th>Employee_ID</th>\n",
       "      <th>Full_Name</th>\n",
       "      <th>Department</th>\n",
       "      <th>Job_Title</th>\n",
       "      <th>Hire_Date</th>\n",
       "      <th>Location</th>\n",
       "      <th>Performance_Rating</th>\n",
       "      <th>Experience_Years</th>\n",
       "      <th>Status</th>\n",
       "      <th>Work_Mode</th>\n",
       "      <th>Salary_INR</th>\n",
       "    </tr>\n",
       "  </thead>\n",
       "  <tbody>\n",
       "    <tr>\n",
       "      <th>0</th>\n",
       "      <td>EMP0000001</td>\n",
       "      <td>Joshua Nguyen</td>\n",
       "      <td>IT</td>\n",
       "      <td>Software Engineer</td>\n",
       "      <td>2011-08-10</td>\n",
       "      <td>Isaacland, Denmark</td>\n",
       "      <td>5</td>\n",
       "      <td>14</td>\n",
       "      <td>Resigned</td>\n",
       "      <td>On-site</td>\n",
       "      <td>1585363</td>\n",
       "    </tr>\n",
       "    <tr>\n",
       "      <th>1</th>\n",
       "      <td>EMP0000002</td>\n",
       "      <td>Julie Williams</td>\n",
       "      <td>Marketing</td>\n",
       "      <td>SEO Specialist</td>\n",
       "      <td>2018-03-02</td>\n",
       "      <td>Anthonyside, Costa Rica</td>\n",
       "      <td>2</td>\n",
       "      <td>7</td>\n",
       "      <td>Active</td>\n",
       "      <td>On-site</td>\n",
       "      <td>847686</td>\n",
       "    </tr>\n",
       "  </tbody>\n",
       "</table>\n",
       "</div>"
      ],
      "text/plain": [
       "  Employee_ID       Full_Name Department          Job_Title  Hire_Date  \\\n",
       "0  EMP0000001   Joshua Nguyen         IT  Software Engineer 2011-08-10   \n",
       "1  EMP0000002  Julie Williams  Marketing     SEO Specialist 2018-03-02   \n",
       "\n",
       "                  Location  Performance_Rating  Experience_Years    Status  \\\n",
       "0       Isaacland, Denmark                   5                14  Resigned   \n",
       "1  Anthonyside, Costa Rica                   2                 7    Active   \n",
       "\n",
       "  Work_Mode  Salary_INR  \n",
       "0   On-site     1585363  \n",
       "1   On-site      847686  "
      ]
     },
     "execution_count": 50,
     "metadata": {},
     "output_type": "execute_result"
    }
   ],
   "source": [
    "df.head(2)"
   ]
  },
  {
   "cell_type": "code",
   "execution_count": 53,
   "id": "548ae033",
   "metadata": {},
   "outputs": [
    {
     "data": {
      "text/plain": [
       "Department\n",
       "Finance        940.411743\n",
       "HR             743.853561\n",
       "IT            1129.858151\n",
       "Marketing      769.936152\n",
       "Operations     754.626253\n",
       "R&D            800.377157\n",
       "Sales          792.957860\n",
       "Name: Salary_INR, dtype: float64"
      ]
     },
     "execution_count": 53,
     "metadata": {},
     "output_type": "execute_result"
    }
   ],
   "source": [
    "avg_salary=df.groupby('Department')['Salary_INR'].mean()/1000\n",
    "avg_salary"
   ]
  },
  {
   "cell_type": "code",
   "execution_count": 54,
   "id": "4ba1c20a",
   "metadata": {},
   "outputs": [
    {
     "data": {
      "text/plain": [
       "pandas.core.series.Series"
      ]
     },
     "execution_count": 54,
     "metadata": {},
     "output_type": "execute_result"
    }
   ],
   "source": [
    "type(avg_salary)"
   ]
  },
  {
   "cell_type": "code",
   "execution_count": 58,
   "id": "4bf588e2",
   "metadata": {},
   "outputs": [
    {
     "data": {
      "image/png": "[encoded data removed]",
      "text/plain": [
       "<Figure size 640x480 with 1 Axes>"
      ]
     },
     "metadata": {},
     "output_type": "display_data"
    }
   ],
   "source": [
    "avg_salary.plot(kind='bar',color='c',legend=True,width=0.3)\n",
    "plt.title('Average Salary in Departments')\n",
    "plt.xlabel('Department')\n",
    "plt.ylabel('Salary')\n",
    "plt.show()"
   ]
  },
  {
   "cell_type": "markdown",
   "id": "e2b4ad1d",
   "metadata": {},
   "source": [
    "5.Which job title has the highest average salary?"
   ]
  },
  {
   "cell_type": "code",
   "execution_count": 60,
   "id": "aa5b2f6a",
   "metadata": {},
   "outputs": [
    {
     "data": {
      "text/html": [
       "<div>\n",
       "<style scoped>\n",
       "    .dataframe tbody tr th:only-of-type {\n",
       "        vertical-align: middle;\n",
       "    }\n",
       "\n",
       "    .dataframe tbody tr th {\n",
       "        vertical-align: top;\n",
       "    }\n",
       "\n",
       "    .dataframe thead th {\n",
       "        text-align: right;\n",
       "    }\n",
       "</style>\n",
       "<table border=\"1\" class=\"dataframe\">\n",
       "  <thead>\n",
       "    <tr style=\"text-align: right;\">\n",
       "      <th></th>\n",
       "      <th>Employee_ID</th>\n",
       "      <th>Full_Name</th>\n",
       "      <th>Department</th>\n",
       "      <th>Job_Title</th>\n",
       "      <th>Hire_Date</th>\n",
       "      <th>Location</th>\n",
       "      <th>Performance_Rating</th>\n",
       "      <th>Experience_Years</th>\n",
       "      <th>Status</th>\n",
       "      <th>Work_Mode</th>\n",
       "      <th>Salary_INR</th>\n",
       "    </tr>\n",
       "  </thead>\n",
       "  <tbody>\n",
       "    <tr>\n",
       "      <th>0</th>\n",
       "      <td>EMP0000001</td>\n",
       "      <td>Joshua Nguyen</td>\n",
       "      <td>IT</td>\n",
       "      <td>Software Engineer</td>\n",
       "      <td>2011-08-10</td>\n",
       "      <td>Isaacland, Denmark</td>\n",
       "      <td>5</td>\n",
       "      <td>14</td>\n",
       "      <td>Resigned</td>\n",
       "      <td>On-site</td>\n",
       "      <td>1585363</td>\n",
       "    </tr>\n",
       "    <tr>\n",
       "      <th>1</th>\n",
       "      <td>EMP0000002</td>\n",
       "      <td>Julie Williams</td>\n",
       "      <td>Marketing</td>\n",
       "      <td>SEO Specialist</td>\n",
       "      <td>2018-03-02</td>\n",
       "      <td>Anthonyside, Costa Rica</td>\n",
       "      <td>2</td>\n",
       "      <td>7</td>\n",
       "      <td>Active</td>\n",
       "      <td>On-site</td>\n",
       "      <td>847686</td>\n",
       "    </tr>\n",
       "    <tr>\n",
       "      <th>2</th>\n",
       "      <td>EMP0000003</td>\n",
       "      <td>Alyssa Martinez</td>\n",
       "      <td>HR</td>\n",
       "      <td>HR Manager</td>\n",
       "      <td>2023-03-20</td>\n",
       "      <td>Port Christinaport, Saudi Arabia</td>\n",
       "      <td>1</td>\n",
       "      <td>2</td>\n",
       "      <td>Active</td>\n",
       "      <td>On-site</td>\n",
       "      <td>1430084</td>\n",
       "    </tr>\n",
       "    <tr>\n",
       "      <th>3</th>\n",
       "      <td>EMP0000004</td>\n",
       "      <td>Nicholas Valdez</td>\n",
       "      <td>IT</td>\n",
       "      <td>Software Engineer</td>\n",
       "      <td>2023-10-12</td>\n",
       "      <td>Port Shelbychester, Antigua and Barbuda</td>\n",
       "      <td>1</td>\n",
       "      <td>1</td>\n",
       "      <td>Active</td>\n",
       "      <td>On-site</td>\n",
       "      <td>990689</td>\n",
       "    </tr>\n",
       "    <tr>\n",
       "      <th>4</th>\n",
       "      <td>EMP0000005</td>\n",
       "      <td>Joel Hendricks</td>\n",
       "      <td>Operations</td>\n",
       "      <td>Logistics Coordinator</td>\n",
       "      <td>2024-12-09</td>\n",
       "      <td>Lake Kimberly, Palestinian Territory</td>\n",
       "      <td>5</td>\n",
       "      <td>0</td>\n",
       "      <td>Active</td>\n",
       "      <td>On-site</td>\n",
       "      <td>535082</td>\n",
       "    </tr>\n",
       "  </tbody>\n",
       "</table>\n",
       "</div>"
      ],
      "text/plain": [
       "  Employee_ID        Full_Name  Department              Job_Title  Hire_Date  \\\n",
       "0  EMP0000001    Joshua Nguyen          IT      Software Engineer 2011-08-10   \n",
       "1  EMP0000002   Julie Williams   Marketing         SEO Specialist 2018-03-02   \n",
       "2  EMP0000003  Alyssa Martinez          HR             HR Manager 2023-03-20   \n",
       "3  EMP0000004  Nicholas Valdez          IT      Software Engineer 2023-10-12   \n",
       "4  EMP0000005   Joel Hendricks  Operations  Logistics Coordinator 2024-12-09   \n",
       "\n",
       "                                  Location  Performance_Rating  \\\n",
       "0                       Isaacland, Denmark                   5   \n",
       "1                  Anthonyside, Costa Rica                   2   \n",
       "2         Port Christinaport, Saudi Arabia                   1   \n",
       "3  Port Shelbychester, Antigua and Barbuda                   1   \n",
       "4     Lake Kimberly, Palestinian Territory                   5   \n",
       "\n",
       "   Experience_Years    Status Work_Mode  Salary_INR  \n",
       "0                14  Resigned   On-site     1585363  \n",
       "1                 7    Active   On-site      847686  \n",
       "2                 2    Active   On-site     1430084  \n",
       "3                 1    Active   On-site      990689  \n",
       "4                 0    Active   On-site      535082  "
      ]
     },
     "execution_count": 60,
     "metadata": {},
     "output_type": "execute_result"
    }
   ],
   "source": [
    "df.head()"
   ]
  },
  {
   "cell_type": "code",
   "execution_count": 61,
   "id": "64154bc2",
   "metadata": {},
   "outputs": [
    {
     "data": {
      "text/plain": [
       "Job_Title\n",
       "Account Manager                   799.373734\n",
       "Accountant                        650.076482\n",
       "Brand Manager                     803.127787\n",
       "Business Development Manager     1252.016231\n",
       "CFO                               795.015873\n",
       "CTO                               801.402754\n",
       "Content Strategist                800.760030\n",
       "Data Analyst                      800.996380\n",
       "DevOps Engineer                   799.949184\n",
       "Finance Manager                  1743.241525\n",
       "Financial Analyst                1051.522903\n",
       "HR Director                       800.694437\n",
       "HR Executive                      550.548859\n",
       "HR Manager                       1252.401915\n",
       "IT Manager                       2098.155777\n",
       "Innovation Manager                801.870103\n",
       "Lab Technician                    800.181468\n",
       "Logistics Coordinator             649.631726\n",
       "Marketing Executive               798.780404\n",
       "Operations Director               798.298093\n",
       "Operations Executive              800.350915\n",
       "Product Developer                 798.652261\n",
       "Research Scientist                801.314879\n",
       "SEO Specialist                    700.456337\n",
       "Sales Director                    799.069374\n",
       "Sales Executive                   650.237755\n",
       "Software Engineer                1199.260843\n",
       "Supply Chain Manager              798.168555\n",
       "Talent Acquisition Specialist     801.422237\n",
       "Name: Salary_INR, dtype: float64"
      ]
     },
     "execution_count": 61,
     "metadata": {},
     "output_type": "execute_result"
    }
   ],
   "source": [
    "h_salary= df.groupby('Job_Title')['Salary_INR'].mean()/1000\n",
    "h_salary"
   ]
  }
 ],
 "metadata": {
  "kernelspec": {
   "display_name": "Python 3",
   "language": "python",
   "name": "python3"
  },
  "language_info": {
   "codemirror_mode": {
    "name": "ipython",
    "version": 3
   },
   "file_extension": ".py",
   "mimetype": "text/x-python",
   "name": "python",
   "nbconvert_exporter": "python",
   "pygments_lexer": "ipython3",
   "version": "3.13.7"
  }
 },
 "nbformat": 4,
 "nbformat_minor": 5
}
